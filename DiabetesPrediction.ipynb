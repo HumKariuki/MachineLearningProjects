{
  "nbformat": 4,
  "nbformat_minor": 0,
  "metadata": {
    "colab": {
      "provenance": [],
      "authorship_tag": "ABX9TyOAwOpc4a2mgT/FridF2McD",
      "include_colab_link": true
    },
    "kernelspec": {
      "name": "python3",
      "display_name": "Python 3"
    },
    "language_info": {
      "name": "python"
    }
  },
  "cells": [
    {
      "cell_type": "markdown",
      "metadata": {
        "id": "view-in-github",
        "colab_type": "text"
      },
      "source": [
        "<a href=\"https://colab.research.google.com/github/HumKariuki/MachineLearningProjects/blob/master/DiabetesPrediction.ipynb\" target=\"_parent\"><img src=\"https://colab.research.google.com/assets/colab-badge.svg\" alt=\"Open In Colab\"/></a>"
      ]
    },
    {
      "cell_type": "markdown",
      "source": [
        "**Predict Diabetes**"
      ],
      "metadata": {
        "id": "jePm3iKnBQ-2"
      }
    },
    {
      "cell_type": "code",
      "source": [
        "## Objective is to predict whether a person will be diagonised with diabetes or not\n",
        "## Import the libraries\n",
        "import pandas as pd \n",
        "import numpy as np\n",
        "from sklearn.model_selection import train_test_split ## Used to split the dataset into train and test dataset\n",
        "from sklearn.preprocessing import StandardScaler\n",
        "from sklearn.neighbors import KNeighborsClassifier\n",
        "## The below libraries test how good our model is\n",
        "from sklearn.metrics import confusion_matrix\n",
        "from sklearn.metrics import f1_score\n",
        "from sklearn.metrics import accuracy_score"
      ],
      "metadata": {
        "id": "_HXeqArfBYrE"
      },
      "execution_count": 4,
      "outputs": []
    },
    {
      "cell_type": "code",
      "source": [
        "dataset=pd.read_csv('/content/diabetes.csv')\n",
        "## Some columns shuold not have zeros such as glucose level so we need to remove the zeros\n",
        "print(list(dataset.columns))\n",
        "Zeros_not_accepted=[ 'Glucose', 'BloodPressure', 'SkinThickness', 'Insulin', 'BMI']\n",
        "for columns in Zeros_not_accepted:\n",
        "  dataset[columns]=dataset[columns].replace(0,np.NaN)\n",
        "  mean=int(dataset[columns].mean(skipna=True))\n",
        "  dataset[columns]=dataset[columns].replace(np.NaN,mean)\n",
        "\n",
        "print(dataset)\n",
        "## You note that the values that were null ie 0 were replaced by the means of the appropriate columns"
      ],
      "metadata": {
        "colab": {
          "base_uri": "https://localhost:8080/"
        },
        "id": "VFN5rUOQDI6n",
        "outputId": "e1428617-df36-45d7-cf62-2f140b839ba3"
      },
      "execution_count": 13,
      "outputs": [
        {
          "output_type": "stream",
          "name": "stdout",
          "text": [
            "['Pregnancies', 'Glucose', 'BloodPressure', 'SkinThickness', 'Insulin', 'BMI', 'DiabetesPedigreeFunction', 'Age', 'Outcome']\n",
            "     Pregnancies  Glucose  BloodPressure  SkinThickness  Insulin   BMI  \\\n",
            "0              6    148.0           72.0           35.0    155.0  33.6   \n",
            "1              1     85.0           66.0           29.0    155.0  26.6   \n",
            "2              8    183.0           64.0           29.0    155.0  23.3   \n",
            "3              1     89.0           66.0           23.0     94.0  28.1   \n",
            "4              0    137.0           40.0           35.0    168.0  43.1   \n",
            "..           ...      ...            ...            ...      ...   ...   \n",
            "763           10    101.0           76.0           48.0    180.0  32.9   \n",
            "764            2    122.0           70.0           27.0    155.0  36.8   \n",
            "765            5    121.0           72.0           23.0    112.0  26.2   \n",
            "766            1    126.0           60.0           29.0    155.0  30.1   \n",
            "767            1     93.0           70.0           31.0    155.0  30.4   \n",
            "\n",
            "     DiabetesPedigreeFunction  Age  Outcome  \n",
            "0                       0.627   50        1  \n",
            "1                       0.351   31        0  \n",
            "2                       0.672   32        1  \n",
            "3                       0.167   21        0  \n",
            "4                       2.288   33        1  \n",
            "..                        ...  ...      ...  \n",
            "763                     0.171   63        0  \n",
            "764                     0.340   27        0  \n",
            "765                     0.245   30        0  \n",
            "766                     0.349   47        1  \n",
            "767                     0.315   23        0  \n",
            "\n",
            "[768 rows x 9 columns]\n"
          ]
        }
      ]
    },
    {
      "cell_type": "code",
      "source": [
        "## Split the dataset\n",
        "x=dataset.iloc[:,0:8]\n",
        "y=dataset.iloc[:,8]\n",
        "xtrain,xtest,ytrain,ytest=train_test_split(x,y,random_state=0,test_size=0.2)"
      ],
      "metadata": {
        "id": "amf78-onHniT"
      },
      "execution_count": 17,
      "outputs": []
    },
    {
      "cell_type": "code",
      "source": [
        "## Feature Scaling - all the data should be between 1 and -1\n",
        "sc_x=StandardScaler()\n",
        "x_train=sc_x.fit_transform(xtrain)\n",
        "x_test=sc_x.transform(xtest)"
      ],
      "metadata": {
        "id": "svwcLcYaIRVj"
      },
      "execution_count": 19,
      "outputs": []
    },
    {
      "cell_type": "code",
      "source": [
        "from sklearn import metrics\n",
        "## Define the model\n",
        "classifier=KNeighborsClassifier(n_neighbors=11,p=2,metric='euclidean')"
      ],
      "metadata": {
        "id": "DQrpRBkLJApM"
      },
      "execution_count": 21,
      "outputs": []
    },
    {
      "cell_type": "code",
      "source": [
        "## Evaluate the model using the confusion matrix\n",
        "classifier.fit(xtrain,ytrain)\n",
        "ypred=classifier.predict(xtest)\n",
        "cm=confusion_matrix(ytest,ypred)\n",
        "print(cm)\n",
        "print(f1_score(ytest,ypred))\n",
        "print(accuracy_score(ytest,ypred))"
      ],
      "metadata": {
        "colab": {
          "base_uri": "https://localhost:8080/"
        },
        "id": "m40HycMBJjWB",
        "outputId": "b997d278-66d9-434f-b11f-7155dccc71f2"
      },
      "execution_count": 26,
      "outputs": [
        {
          "output_type": "stream",
          "name": "stdout",
          "text": [
            "[[86 21]\n",
            " [16 31]]\n",
            "0.6262626262626262\n",
            "0.7597402597402597\n"
          ]
        }
      ]
    },
    {
      "cell_type": "code",
      "source": [],
      "metadata": {
        "id": "uEqOpWMBJz1O"
      },
      "execution_count": null,
      "outputs": []
    }
  ]
}