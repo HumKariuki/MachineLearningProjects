{
  "nbformat": 4,
  "nbformat_minor": 0,
  "metadata": {
    "colab": {
      "provenance": [],
      "authorship_tag": "ABX9TyMblRcsQqSfUC9zf9TfhBIh",
      "include_colab_link": true
    },
    "kernelspec": {
      "name": "python3",
      "display_name": "Python 3"
    },
    "language_info": {
      "name": "python"
    }
  },
  "cells": [
    {
      "cell_type": "markdown",
      "metadata": {
        "id": "view-in-github",
        "colab_type": "text"
      },
      "source": [
        "<a href=\"https://colab.research.google.com/github/HumKariuki/MachineLearningProjects/blob/master/Rockvs_MinePrediction.ipynb\" target=\"_parent\"><img src=\"https://colab.research.google.com/assets/colab-badge.svg\" alt=\"Open In Colab\"/></a>"
      ]
    },
    {
      "cell_type": "markdown",
      "source": [
        "Sonar Rock vs Mine prediction with python"
      ],
      "metadata": {
        "id": "trH76NLipao4"
      }
    },
    {
      "cell_type": "code",
      "source": [
        "## Importing the required libraries\n",
        "import numpy as np\n",
        "import pandas as pd\n",
        "from sklearn.model_selection import train_test_split ## It is used to split the dataset into train and test\n",
        "from sklearn.linear_model import LogisticRegression ## It is used this is the regression model it is mostly used in binary cases\n",
        "from sklearn.metrics import accuracy_score "
      ],
      "metadata": {
        "id": "YBj8Dkv-plBW"
      },
      "execution_count": 2,
      "outputs": []
    },
    {
      "cell_type": "code",
      "source": [
        "## Data collection And Data processing\n",
        "sonarData=pd.read_csv(\"/content/sonar.all-data.csv\",header=None)"
      ],
      "metadata": {
        "id": "TdjHWT_dqk6N"
      },
      "execution_count": 5,
      "outputs": []
    },
    {
      "cell_type": "code",
      "source": [
        "sonarData.head()"
      ],
      "metadata": {
        "id": "invE2jFFrOIz"
      },
      "execution_count": null,
      "outputs": []
    },
    {
      "cell_type": "code",
      "source": [
        "sonarData.shape ## We can see that the dataset has 208 rows and 61 columns\n",
        "sonarData.describe()"
      ],
      "metadata": {
        "id": "MIskzMIprSuv"
      },
      "execution_count": null,
      "outputs": []
    },
    {
      "cell_type": "code",
      "source": [
        "sonarData[60].value_counts() ## here we can see that in the 60th column that contains rock and mine the number of each one of them\n",
        "## The number is good for the model since they are almost equal...the gap is not so large"
      ],
      "metadata": {
        "colab": {
          "base_uri": "https://localhost:8080/"
        },
        "id": "nBOVRTRiri9T",
        "outputId": "10335d1e-c835-4957-e511-9dab9f4622a8"
      },
      "execution_count": 10,
      "outputs": [
        {
          "output_type": "execute_result",
          "data": {
            "text/plain": [
              "M    111\n",
              "R     97\n",
              "Name: 60, dtype: int64"
            ]
          },
          "metadata": {},
          "execution_count": 10
        }
      ]
    },
    {
      "cell_type": "code",
      "source": [
        "sonarData.groupby(60).mean() ## Here we are seeing the mean of each column of rock and that of mine"
      ],
      "metadata": {
        "id": "WBvpIUX1sSN_"
      },
      "execution_count": null,
      "outputs": []
    },
    {
      "cell_type": "markdown",
      "source": [
        "Separating Data and the Labels"
      ],
      "metadata": {
        "id": "qr4DvyOgszh4"
      }
    },
    {
      "cell_type": "code",
      "source": [
        "x=sonarData.drop(columns=60,axis=1) ## Here we are the last column...when dropping columns we use axis =1\n",
        "y=sonarData[60]"
      ],
      "metadata": {
        "id": "btqmrM0Fs44u"
      },
      "execution_count": 15,
      "outputs": []
    },
    {
      "cell_type": "code",
      "source": [
        "x.head()\n",
        "y.head()"
      ],
      "metadata": {
        "id": "80Zm-5YMtLut"
      },
      "execution_count": null,
      "outputs": []
    },
    {
      "cell_type": "markdown",
      "source": [
        "Training and Test Data"
      ],
      "metadata": {
        "id": "A4AJ_rBZtl_L"
      }
    },
    {
      "cell_type": "code",
      "source": [
        "x_train,x_test,y_train,y_test=train_test_split(x,y,test_size=0.1,stratify=y,random_state=1)\n",
        "## Here we need 10% of the data to be test data \n",
        "## for the stratify is because we need to split the data based on rock or a mine.We need to have almost equal data odf rock and mine in the test and train data\n",
        "x_train.head()\n",
        "x_test.head()\n",
        "#The training data teaches an algorithm to identify patterns in the data set, while, the test data is used to evaluate the accuracy of the model"
      ],
      "metadata": {
        "id": "_fiLauqCuSbm"
      },
      "execution_count": null,
      "outputs": []
    },
    {
      "cell_type": "code",
      "source": [
        "print(x.shape,x_train.shape,x_test.shape)"
      ],
      "metadata": {
        "id": "3GwN0OkFuwuU"
      },
      "execution_count": null,
      "outputs": []
    },
    {
      "cell_type": "markdown",
      "source": [
        "Model Training"
      ],
      "metadata": {
        "id": "qIWtA6Y_vmoh"
      }
    },
    {
      "cell_type": "code",
      "source": [
        "model=LogisticRegression()\n",
        "## Training the Logistic Regression with training data\n",
        "model.fit(x_train,y_train)"
      ],
      "metadata": {
        "id": "VhxLI-IavqdU"
      },
      "execution_count": null,
      "outputs": []
    },
    {
      "cell_type": "code",
      "source": [
        "## Model Evaluation\n",
        "# Accoracy on the training data\n",
        "x_train_prediction=model.predict(x_train)\n",
        "training_data_accuracy=accuracy_score(x_train_prediction,y_train)\n",
        "print('Accuracy on Training Data:',training_data_accuracy)\n",
        "## The output is 83% which is good\n"
      ],
      "metadata": {
        "id": "Y5fKdJFRxtNz"
      },
      "execution_count": null,
      "outputs": []
    },
    {
      "cell_type": "code",
      "source": [
        "## Accuracy on the Test Data\n",
        "x_test_prediction=model.predict(x_test)\n",
        "testing_data_accuracy=accuracy_score(x_test_prediction,y_test)\n",
        "print('Accuracy on Testing Data:',testing_data_accuracy)\n",
        "# The output is 76% which is good for the model"
      ],
      "metadata": {
        "id": "8b2pbnr9ymgD"
      },
      "execution_count": null,
      "outputs": []
    },
    {
      "cell_type": "markdown",
      "source": [
        "Now since our model is fine we now need to make a predictive system"
      ],
      "metadata": {
        "id": "E4b8BCngzbON"
      }
    },
    {
      "cell_type": "code",
      "source": [
        "input_data=(0.254,0.254,0.0282,0.0596,0.254,0.0779,0.254,0.0780,0.1038,0.1567,0.2476,0.2783,0.2896,0.2956,0.3189,0.1892,0.1730,0.2226,0.2427,0.3149,0.4102,0.3808,0.4896,0.6292,0.7519,0.7985,0.8830,0.9915,0.9223,0.6981,0.6167,0.5069,0.3921,0.3524,0.2183,0.1245,0.1592,0.1626,0.2356,0.2483,0.2437,0.2715,0.1184,0.1157,0.1449,0.1883,0.1954,0.1492,0.0511,0.0155,0.0189,0.0150,0.0060,0.0082,0.0091,0.0038,0.0056,0.0056,0.0048,0.0024)\n",
        "# Change the datatype into numpy array\n",
        "input_data_as_numpy=np.asarray(input_data)\n",
        "## Now we reshape the np array as we are predicting for one instance\n",
        "input_data_reshape=input_data_as_numpy.reshape(1,-1)\n",
        "prediction=model.predict(input_data_reshape)\n",
        "print(prediction)\n",
        "## WE expect it to predict a mine"
      ],
      "metadata": {
        "id": "qZt3svWNzodC"
      },
      "execution_count": null,
      "outputs": []
    },
    {
      "cell_type": "code",
      "source": [
        "if (prediction[0]==\"R\"):\n",
        " print(\"The OBject is a rock\")\n",
        "else:\n",
        "  print(\"The object is a mine\")"
      ],
      "metadata": {
        "colab": {
          "base_uri": "https://localhost:8080/"
        },
        "id": "gJ9xT_VL29dv",
        "outputId": "d38f1a8a-fdfb-453c-d589-d438fb17a465"
      },
      "execution_count": 46,
      "outputs": [
        {
          "output_type": "stream",
          "name": "stdout",
          "text": [
            "The object is a mine\n"
          ]
        }
      ]
    }
  ]
}